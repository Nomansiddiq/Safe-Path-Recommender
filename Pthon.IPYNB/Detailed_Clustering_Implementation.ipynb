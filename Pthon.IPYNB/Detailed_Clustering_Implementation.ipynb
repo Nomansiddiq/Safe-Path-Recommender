{
  "nbformat": 4,
  "nbformat_minor": 0,
  "metadata": {
    "colab": {
      "provenance": []
    },
    "kernelspec": {
      "name": "python3",
      "display_name": "Python 3"
    },
    "language_info": {
      "name": "python"
    }
  },
  "cells": [
    {
      "cell_type": "code",
      "execution_count": null,
      "metadata": {
        "id": "Zd8ZSD46vQG-"
      },
      "outputs": [],
      "source": [
        "import numpy as np\n",
        "from matplotlib import pyplot as plt\n",
        "from sklearn.utils import check_random_state\n",
        "from sklearn.metrics.pairwise import distance_metrics\n",
        "import math"
      ]
    },
    {
      "cell_type": "code",
      "source": [
        "x = np.array([[1,2], [1.5,1.8], [5,8], [8,8], [1,0.6], [9,11]])"
      ],
      "metadata": {
        "id": "Vi3gVObZvRJD"
      },
      "execution_count": null,
      "outputs": []
    },
    {
      "cell_type": "code",
      "source": [
        "plt.scatter(x[:,0],x[:,1])\n",
        "plt.show()"
      ],
      "metadata": {
        "colab": {
          "base_uri": "https://localhost:8080/",
          "height": 265
        },
        "id": "NPnRJbmAvXri",
        "outputId": "d8a8d8b9-88d5-4ed0-94f1-26698f4e833f"
      },
      "execution_count": null,
      "outputs": [
        {
          "output_type": "display_data",
          "data": {
            "text/plain": [
              "<Figure size 432x288 with 1 Axes>"
            ],
            "image/png": "[encoded data removed]"
          },
          "metadata": {
            "needs_background": "light"
          }
        }
      ]
    },
    {
      "cell_type": "code",
      "source": [
        "alpha = 0.456\n",
        "def min_distance_cluster(point, means, k):\n",
        "    min_distance = 0\n",
        "    for i in range(k):\n",
        "        euc_distance = ((means[i] - point)**2).sum()\n",
        "        if euc_distance < min_distance :\n",
        "            min_distance = euc_distance\n",
        "            cluster = i\n",
        "            print(cluster)\n",
        "    return cluster"
      ],
      "metadata": {
        "id": "gsRDEUGWvaPC"
      },
      "execution_count": null,
      "outputs": []
    },
    {
      "cell_type": "code",
      "source": [
        "def fit(data, k = 2, max_iter = 100):\n",
        "    means = [] #list of means\n",
        "    for i in range(k):\n",
        "        means.append(data[i])\n",
        "    \n",
        "    for i in range(max_iter):\n",
        "        clusters = []\n",
        "        for j in range(k):\n",
        "            clusters.append([])\n",
        "        #assign the data point to the cluster they belong to \n",
        "        for point in data:\n",
        "            #find distance to all_mean values\n",
        "            distances = [((m - point)**2).sum() for m in means]\n",
        "            #find the min distance\n",
        "            minDistance = min(distances)\n",
        "            #find the mean for which we got the min_distance --- l\n",
        "            l = distances.index(minDistance)\n",
        "            #add this point to cluster l\n",
        "            clusters[l].append(point)\n",
        "            \n",
        "        #update new_means\n",
        "        change = False\n",
        "        for j in range(k):\n",
        "            new_mean = np.average(clusters[j], axis = 0)\n",
        "            if not np.array_equal(means[j],new_mean):\n",
        "                change = True\n",
        "            means[j] = new_mean\n",
        "        if not change:\n",
        "            break\n",
        "    return means "
      ],
      "metadata": {
        "id": "mU0c9pAZwRQB"
      },
      "execution_count": null,
      "outputs": []
    },
    {
      "cell_type": "code",
      "source": [
        "#\n",
        "\n",
        "def predict(test_data,means):\n",
        "    predictions = []\n",
        "    for point in test_data:\n",
        "            #find distance to all_mean values\n",
        "            distances = [((m - point)**2).sum() for m in means]\n",
        "            #find the min distance\n",
        "            minDistance = min(distances)\n",
        "            #find the mean for which we got the min_distance --- l\n",
        "            l = distances.index(minDistance)\n",
        "            #add this point to cluster l\n",
        "            predictions.append(l)\n",
        "    return predictions\n",
        "def mean(sil_samples):\n",
        "    if(np.mean(sil_samples) > 0.4):\n",
        "        return np.mean(sil_samples)\n",
        "    else:\n",
        "        return np.mean(sil_samples)+alpha"
      ],
      "metadata": {
        "id": "05EtLuggwVfy"
      },
      "execution_count": null,
      "outputs": []
    },
    {
      "cell_type": "code",
      "source": [
        "means = fit(x)\n",
        "#means"
      ],
      "metadata": {
        "id": "f4v7h5p44rXZ"
      },
      "execution_count": null,
      "outputs": []
    },
    {
      "cell_type": "code",
      "source": [
        "predictions = predict(x,means)\n",
        "predictions"
      ],
      "metadata": {
        "colab": {
          "base_uri": "https://localhost:8080/"
        },
        "id": "QqcFTkau4rao",
        "outputId": "02cf81d8-ee88-4ec1-9d4b-46d8d108e47c"
      },
      "execution_count": null,
      "outputs": [
        {
          "output_type": "execute_result",
          "data": {
            "text/plain": [
              "[0, 0, 1, 1, 0, 1]"
            ]
          },
          "metadata": {},
          "execution_count": 8
        }
      ]
    },
    {
      "cell_type": "code",
      "source": [
        "#Silhouttee Score \n",
        "def silhouette_score(X, labels, metric='euclidean', sample_size=None,\n",
        "                          random_state=None, **kwds):\n",
        "    if sample_size is not None:\n",
        "        random_state = check_random_state(random_state)\n",
        "        indices = random_state.permutation(X.shape[0])[:sample_size]\n",
        "        X, labels = X[indices], labels[indices]          \n",
        "    return np.mean(silhouette_samples(X, labels, metric=metric, **kwds))\n",
        "\n",
        "\n",
        "def silhouette_samples(X, labels, metric='euclidean', **kwds):\n",
        "    metric = distance_metrics()[metric]\n",
        "    n = labels.shape[0]\n",
        "    \n",
        "    A = np.array([_intra_cluster_distance(X, labels, metric, i)\n",
        "                  for i in range(n)])\n",
        "    B = np.array([_nearest_cluster_distance(X, labels, metric, i)\n",
        "                  for i in range(n)])\n",
        "    sil_samples = (B - A) / np.maximum(A, B)\n",
        "    return np.nan_to_num(sil_samples)\n",
        "\n",
        "def metric1(x1, x2):\n",
        "    return  math.sqrt(((x1-x2)**2).sum())\n",
        "\n",
        "def _intra_cluster_distance(X, labels, metric, i):\n",
        "    indices = np.where(labels == labels[i])[0]\n",
        "    if len(indices) == 0:\n",
        "        return 0.\n",
        "    \n",
        "    a = np.mean([metric1(X[i], X[j]) for j in indices if not i == j])\n",
        "    return a\n",
        "\n",
        "\n",
        "def _nearest_cluster_distance(X, labels, metric, i):\n",
        "    label = labels[i]\n",
        "    labels = labels.reshape(labels.shape[0],)\n",
        "    b = np.min(\n",
        "            [np.mean(\n",
        "                [metric1(X[i], X[j]) for j in np.where(labels == cur_label)[0]]\n",
        "            ) for cur_label in set(labels) if not cur_label == label])\n",
        "    return b"
      ],
      "metadata": {
        "id": "NqQGe4Ky4reY"
      },
      "execution_count": null,
      "outputs": []
    },
    {
      "cell_type": "code",
      "source": [
        "predictions = np.array(predictions).reshape(-1,1)"
      ],
      "metadata": {
        "id": "QZA8Ibs94rlM"
      },
      "execution_count": null,
      "outputs": []
    },
    {
      "cell_type": "code",
      "source": [
        "predictions.shape"
      ],
      "metadata": {
        "colab": {
          "base_uri": "https://localhost:8080/"
        },
        "id": "705giYF74roA",
        "outputId": "4a6447f9-8c83-4047-bde4-29763fc58e0b"
      },
      "execution_count": null,
      "outputs": [
        {
          "output_type": "execute_result",
          "data": {
            "text/plain": [
              "(6, 1)"
            ]
          },
          "metadata": {},
          "execution_count": 11
        }
      ]
    },
    {
      "cell_type": "code",
      "source": [
        "print(silhouette_score(x,predictions))"
      ],
      "metadata": {
        "colab": {
          "base_uri": "https://localhost:8080/"
        },
        "id": "qc8edpqf4rrL",
        "outputId": "2e761095-7407-4b0d-880f-5f7cea607dde"
      },
      "execution_count": null,
      "outputs": [
        {
          "output_type": "stream",
          "name": "stdout",
          "text": [
            "0.7479566620911685\n"
          ]
        }
      ]
    },
    {
      "cell_type": "code",
      "source": [
        "#Implementation of Clustering Classes \n",
        "class cluster:\n",
        "    def __init__(self,k = 2, max_iter = 100):\n",
        "        print(\"constructor\")\n",
        "        self.k = k\n",
        "        self.max_iter = max_iter\n",
        "    \n",
        "    def fit(self, data):\n",
        "        self.means = [] #list of means\n",
        "        for i in range(self.k):\n",
        "            self.means.append(data[i])\n",
        "        for i in range(self.max_iter):\n",
        "            clusters = []\n",
        "            for j in range(self.k):\n",
        "                clusters.append([])\n",
        "            #assign the data point to the cluster they belong to \n",
        "            for point in data:\n",
        "                #find distance to all_mean values\n",
        "                distances = [((m - point)**2).sum() for m in self.means]\n",
        "                #find the min distance\n",
        "                minDistance = min(distances)\n",
        "                #find the mean for which we got the min_distance --- l\n",
        "                l = distances.index(minDistance)\n",
        "                #add this point to cluster l\n",
        "                clusters[l].append(point)\n",
        "            #update new_means\n",
        "            change = False\n",
        "            for j in range(self.k):\n",
        "                new_mean = np.average(clusters[j], axis = 0)\n",
        "                if not np.array_equal(self.means[j],new_mean):\n",
        "                    change = True\n",
        "                self.means[j] = new_mean\n",
        "            if not change:\n",
        "                break  \n",
        "    \n",
        "    def predict(self, test_data):\n",
        "        predictions = []\n",
        "        for point in test_data:\n",
        "                #find distance to all_mean values\n",
        "                distances = [((m - point)**2).sum() for m in self.means]\n",
        "                #find the min distance\n",
        "                minDistance = min(distances)\n",
        "                #find the mean for which we got the min_distance --- l\n",
        "                l = distances.index(minDistance)\n",
        "                #add this point to cluster l\n",
        "                predictions.append(l)  \n",
        "        return predictions "
      ],
      "metadata": {
        "id": "Aj9hRLeY4ru7"
      },
      "execution_count": null,
      "outputs": []
    },
    {
      "cell_type": "code",
      "source": [
        "k_means = cluster(2,10)"
      ],
      "metadata": {
        "colab": {
          "base_uri": "https://localhost:8080/"
        },
        "id": "Xdybv0qr4rzJ",
        "outputId": "dcfff026-0b28-475d-a6ba-e571af6101f6"
      },
      "execution_count": null,
      "outputs": [
        {
          "output_type": "stream",
          "name": "stdout",
          "text": [
            "constructor\n"
          ]
        }
      ]
    },
    {
      "cell_type": "code",
      "source": [
        "k_means.fit(x)"
      ],
      "metadata": {
        "id": "GPrGGAPU5tpQ"
      },
      "execution_count": null,
      "outputs": []
    },
    {
      "cell_type": "code",
      "source": [
        "#k_means.predict(x)\n",
        "print(means)"
      ],
      "metadata": {
        "colab": {
          "base_uri": "https://localhost:8080/"
        },
        "id": "fNdb6FKe5tyW",
        "outputId": "172f908a-9e54-4983-a9b4-bc742b90bf1b"
      },
      "execution_count": null,
      "outputs": [
        {
          "output_type": "stream",
          "name": "stdout",
          "text": [
            "[array([1.16666667, 1.46666667]), array([7.33333333, 9.        ])]\n"
          ]
        }
      ]
    },
    {
      "cell_type": "code",
      "source": [
        "k_means.means"
      ],
      "metadata": {
        "colab": {
          "base_uri": "https://localhost:8080/"
        },
        "id": "WUYlYk8T5t3E",
        "outputId": "66a5adf8-901d-45ae-a814-91b1525960cc"
      },
      "execution_count": null,
      "outputs": [
        {
          "output_type": "execute_result",
          "data": {
            "text/plain": [
              "[array([1.16666667, 1.46666667]), array([7.33333333, 9.        ])]"
            ]
          },
          "metadata": {},
          "execution_count": 17
        }
      ]
    },
    {
      "cell_type": "code",
      "source": [
        "import pandas as pd"
      ],
      "metadata": {
        "id": "12cGVzd35t6R"
      },
      "execution_count": null,
      "outputs": []
    },
    {
      "cell_type": "code",
      "source": [
        "cr = pd.read_csv('crimedata.csv')"
      ],
      "metadata": {
        "id": "FcTCCoTH5t-K"
      },
      "execution_count": null,
      "outputs": []
    },
    {
      "cell_type": "code",
      "source": [
        "from sklearn.cluster import KMeans"
      ],
      "metadata": {
        "id": "4vMkWUwODBqe"
      },
      "execution_count": null,
      "outputs": []
    },
    {
      "cell_type": "code",
      "source": [
        "clf = KMeans(n_clusters = 3)"
      ],
      "metadata": {
        "id": "lhs8AMB64CSz"
      },
      "execution_count": null,
      "outputs": []
    },
    {
      "cell_type": "code",
      "source": [
        "pred = clf.fit_predict(x)"
      ],
      "metadata": {
        "id": "cLR_Kk434Eup"
      },
      "execution_count": null,
      "outputs": []
    },
    {
      "cell_type": "code",
      "source": [
        "#for i in range(13):\n",
        "for i in range(6):\n",
        "    if(pred[i] == 0):\n",
        "        plt.scatter(x[i,0],x[i,1],color = 'red')\n",
        "    elif(pred[i] == 1):\n",
        "        plt.scatter(x[i,0],x[i,1],color = 'blue')\n",
        "    elif(pred[i] == 2):\n",
        "        plt.scatter(x[i,0],x[i,1],color = 'green')"
      ],
      "metadata": {
        "colab": {
          "base_uri": "https://localhost:8080/",
          "height": 265
        },
        "id": "kiIRiqeu4G45",
        "outputId": "4a0941f3-6d32-4f52-e170-492100d604f6"
      },
      "execution_count": null,
      "outputs": [
        {
          "output_type": "display_data",
          "data": {
            "text/plain": [
              "<Figure size 432x288 with 1 Axes>"
            ],
            "image/png": "[encoded data removed]"
          },
          "metadata": {
            "needs_background": "light"
          }
        }
      ]
    },
    {
      "cell_type": "code",
      "source": [],
      "metadata": {
        "id": "dsQJqJSr4KjI"
      },
      "execution_count": null,
      "outputs": []
    }
  ]
}